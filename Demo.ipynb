{
 "cells": [
  {
   "cell_type": "markdown",
   "metadata": {},
   "source": [
    "# Demonstration Notebook\n",
    "\n",
    "This notebook is meant **only for final demonstration of output** of Machine Learning training applied over CFD data collected. All necessary functions and transformation is carried under the hood in background files.\n",
    "\n",
    "** jupyter-nbextension enable toc/toc**\n",
    "\n",
    "**Things to add:**\n",
    "\n",
    "- Model evolution\n",
    "- Video files of training data and prediction\n",
    "- Prediction on a new data\n",
    "- Content\n",
    "- Eta study\n",
    "- Pressure, Lift, Drag calculation\n",
    "- Before PPT: Simulation assumptions methods and general airfoil info\n",
    "- Before PPT: CFD Files and Simulation details\n",
    "- Before PPT: Novel features of this approach\n",
    "- Before PPT: Reliability and Usage\n",
    "- Before PPT: Significance and future work\n",
    "\n",
    "### CFD-ML\n",
    "Combining domains of **Computational Fluid Dynamics** and **Machine Learning**. Our aim is to help the community of chaos modelling and CFD in reducing the need for high-end computations and accurate and bulky data collection during experiments.\n",
    "\n",
    "<p align=\"center\">\n",
    "    <img src=\"random_images/airfoil-1.jpg\" width=\"500\" align=\"left\" style= \"margin: 1px 2px\">\n",
    "    <img src=\"random_images/dl.png\" width=\"400\" align=\"right\" style= \"margin: 1px 2px\">\n",
    "</p>"
   ]
  },
  {
   "cell_type": "markdown",
   "metadata": {},
   "source": [
    "## Methodology\n",
    "<img src=\"random_images/idea.png\" width=\"500\" align=\"left\" style=\"margin:5px 10px\"/>\n",
    "\n",
    "We seek to create continuous fluid flow predictions which align well with corresponding CFD simulations. Our idea is to gather data scattered in space and time and try to learn the transformation function using **deep neural networks**.\n",
    "\n",
    "This function takes the co-ordinates of any point in space-time co-ordinate system (x, y, t) as inputs and predicts the flow field values (u, v, p) as output of it. An ideal transformation function would be able to stay close to simulation data while satisfying **Navier-Stokes equation**. This imposes another level on the current challenge to derive this function. \n",
    "\n",
    "Once we have the function, we simply need to pass the all the co-ordinate values of a given time-snap to get the **simulation snapshot at that time step**.\n"
   ]
  },
  {
   "cell_type": "markdown",
   "metadata": {},
   "source": [
    "## Data and Model\n",
    "Make sure model is the one with least mean squared error and corresponding to data file chosen"
   ]
  },
  {
   "cell_type": "code",
   "execution_count": 1,
   "metadata": {},
   "outputs": [
    {
     "name": "stderr",
     "output_type": "stream",
     "text": [
      "/home/ritvik/anaconda3/envs/cfd_ml/lib/python3.7/site-packages/tensorflow/python/framework/dtypes.py:516: FutureWarning: Passing (type, 1) or '1type' as a synonym of type is deprecated; in a future version of numpy, it will be understood as (type, (1,)) / '(1,)type'.\n",
      "  _np_qint8 = np.dtype([(\"qint8\", np.int8, 1)])\n",
      "/home/ritvik/anaconda3/envs/cfd_ml/lib/python3.7/site-packages/tensorflow/python/framework/dtypes.py:517: FutureWarning: Passing (type, 1) or '1type' as a synonym of type is deprecated; in a future version of numpy, it will be understood as (type, (1,)) / '(1,)type'.\n",
      "  _np_quint8 = np.dtype([(\"quint8\", np.uint8, 1)])\n",
      "/home/ritvik/anaconda3/envs/cfd_ml/lib/python3.7/site-packages/tensorflow/python/framework/dtypes.py:518: FutureWarning: Passing (type, 1) or '1type' as a synonym of type is deprecated; in a future version of numpy, it will be understood as (type, (1,)) / '(1,)type'.\n",
      "  _np_qint16 = np.dtype([(\"qint16\", np.int16, 1)])\n",
      "/home/ritvik/anaconda3/envs/cfd_ml/lib/python3.7/site-packages/tensorflow/python/framework/dtypes.py:519: FutureWarning: Passing (type, 1) or '1type' as a synonym of type is deprecated; in a future version of numpy, it will be understood as (type, (1,)) / '(1,)type'.\n",
      "  _np_quint16 = np.dtype([(\"quint16\", np.uint16, 1)])\n",
      "/home/ritvik/anaconda3/envs/cfd_ml/lib/python3.7/site-packages/tensorflow/python/framework/dtypes.py:520: FutureWarning: Passing (type, 1) or '1type' as a synonym of type is deprecated; in a future version of numpy, it will be understood as (type, (1,)) / '(1,)type'.\n",
      "  _np_qint32 = np.dtype([(\"qint32\", np.int32, 1)])\n",
      "/home/ritvik/anaconda3/envs/cfd_ml/lib/python3.7/site-packages/tensorflow/python/framework/dtypes.py:525: FutureWarning: Passing (type, 1) or '1type' as a synonym of type is deprecated; in a future version of numpy, it will be understood as (type, (1,)) / '(1,)type'.\n",
      "  np_resource = np.dtype([(\"resource\", np.ubyte, 1)])\n",
      "/home/ritvik/anaconda3/envs/cfd_ml/lib/python3.7/site-packages/tensorboard/compat/tensorflow_stub/dtypes.py:541: FutureWarning: Passing (type, 1) or '1type' as a synonym of type is deprecated; in a future version of numpy, it will be understood as (type, (1,)) / '(1,)type'.\n",
      "  _np_qint8 = np.dtype([(\"qint8\", np.int8, 1)])\n",
      "/home/ritvik/anaconda3/envs/cfd_ml/lib/python3.7/site-packages/tensorboard/compat/tensorflow_stub/dtypes.py:542: FutureWarning: Passing (type, 1) or '1type' as a synonym of type is deprecated; in a future version of numpy, it will be understood as (type, (1,)) / '(1,)type'.\n",
      "  _np_quint8 = np.dtype([(\"quint8\", np.uint8, 1)])\n",
      "/home/ritvik/anaconda3/envs/cfd_ml/lib/python3.7/site-packages/tensorboard/compat/tensorflow_stub/dtypes.py:543: FutureWarning: Passing (type, 1) or '1type' as a synonym of type is deprecated; in a future version of numpy, it will be understood as (type, (1,)) / '(1,)type'.\n",
      "  _np_qint16 = np.dtype([(\"qint16\", np.int16, 1)])\n",
      "/home/ritvik/anaconda3/envs/cfd_ml/lib/python3.7/site-packages/tensorboard/compat/tensorflow_stub/dtypes.py:544: FutureWarning: Passing (type, 1) or '1type' as a synonym of type is deprecated; in a future version of numpy, it will be understood as (type, (1,)) / '(1,)type'.\n",
      "  _np_quint16 = np.dtype([(\"quint16\", np.uint16, 1)])\n",
      "/home/ritvik/anaconda3/envs/cfd_ml/lib/python3.7/site-packages/tensorboard/compat/tensorflow_stub/dtypes.py:545: FutureWarning: Passing (type, 1) or '1type' as a synonym of type is deprecated; in a future version of numpy, it will be understood as (type, (1,)) / '(1,)type'.\n",
      "  _np_qint32 = np.dtype([(\"qint32\", np.int32, 1)])\n",
      "/home/ritvik/anaconda3/envs/cfd_ml/lib/python3.7/site-packages/tensorboard/compat/tensorflow_stub/dtypes.py:550: FutureWarning: Passing (type, 1) or '1type' as a synonym of type is deprecated; in a future version of numpy, it will be understood as (type, (1,)) / '(1,)type'.\n",
      "  np_resource = np.dtype([(\"resource\", np.ubyte, 1)])\n",
      "Using TensorFlow backend.\n"
     ]
    }
   ],
   "source": [
    "from __future__ import print_function\n",
    "from ipywidgets import interact, interactive, fixed, interact_manual\n",
    "import ipywidgets as widgets\n",
    "%matplotlib inline\n",
    "%matplotlib notebook\n",
    "import essential_functions as ef\n",
    "from essential_functions import *\n",
    "import os"
   ]
  },
  {
   "cell_type": "code",
   "execution_count": 2,
   "metadata": {},
   "outputs": [],
   "source": [
    "_MODEL_DIR = \"kaggle_models/\"\n",
    "_DATA_DIR = \"data/\"\n",
    "\n",
    "_DATA = \"data/final_translated_data_1_3.csv\"\n",
    "_MODEL = \"trained_models/medium_foil_model4.h5\"#\"kaggle_models/model_3_0-0125.h5\""
   ]
  },
  {
   "cell_type": "markdown",
   "metadata": {},
   "source": [
    "## Load, convert and scale data\n",
    "\n",
    "Data is modified to have a perspective with respect to **centre of mass** of airfoil. All further calculations and plots would be based on the same.\n",
    "The displacement of airfoil in experimental setup is dealt independently in the solution."
   ]
  },
  {
   "cell_type": "code",
   "execution_count": 3,
   "metadata": {},
   "outputs": [
    {
     "name": "stdout",
     "output_type": "stream",
     "text": [
      "[INFO] Time taken = 5.7555084228515625 seconds.\n",
      "[INFO] Number of data points: 3886682\n"
     ]
    }
   ],
   "source": [
    "data = load_data(filename=_DATA)\n",
    "t_orig,x_orig,y_orig,u_orig,v_orig,p_orig,eta_orig = create_tensors(data)\n",
    "scaler = scale_learn(t_orig,x_orig,y_orig,u_orig,v_orig,p_orig,eta_orig)\n",
    "t,x,y,u,v,p,eta = scale(scaler,t_orig,x_orig,y_orig,u_orig,v_orig,p_orig,eta_orig)\n",
    "print(\"[INFO] Number of data points: \" +str(t.shape[0]))"
   ]
  },
  {
   "cell_type": "code",
   "execution_count": 4,
   "metadata": {},
   "outputs": [],
   "source": [
    "# sub_data = data.sample(frac=0.1)\n",
    "# fig=plot3D(sub_data[\"x\"],sub_data[\"t\"],sub_data[\"y\"],s=0.1,saved=True)\n",
    "# plot_time_data(2.00,data)"
   ]
  },
  {
   "cell_type": "markdown",
   "metadata": {},
   "source": [
    "## Data Plots\n",
    "As it can be seen, the data collected is neither continuous in co-ordinate scales nor in time steps. The total number of data-points we have are over **3.8 million** spread out evenly between **300 time slices. (0.01sec/slice)**.\n",
    "\n",
    "### Data transformation\n",
    "Data transformation had the following steps: \n",
    "1. **Scraping** useful data from individual simulation files for individual time-steps. Also filtering the domain data from the even larger simulation domain.\n",
    "2. **Flattening** to 2D and filtering values which are used for model training and evaluation. Force and Torque acting is also preserved for future use.\n",
    "3. **Performing selectively random data selection** for capturing different percentage of different type of points (explained below). This required finding the exact co-ordinates of surface points at each given instant of time.\n",
    "4. **Uniform time-selection** of data to uniformly select same number of data points from each time frame.\n",
    "5. **Shift of reference frame** from experiment reference from to centre of airfoil reference frame. This is required to simplify the complexity of problem where the model has to **deal with sudden absence of fluid** in a region when airfoil is oscillating up and down. In centre-of-mass of airfoil frame, airfoil remains stationary and hence no such sudden absence. We are also rearning the mapping of y-directional oscillation of the airfoil so as to be able to revert back to our original settings after prediction.\n",
    "\n",
    "### Data selection\n",
    "The co-ordinate selection is selectively random according to following rule:\n",
    "1. **Points attached to body** are given highest priority (~70% points from the mesh got selected). This needed to capture boundary layer equation.\n",
    "2. **Points in the viscinity** of previous layer also face the similar problem and hence are given second highest probability\n",
    "3. **Any other points** in the chosen domain has a probability of selection ~30%. Domains is 2D and extends from **(-c,-1.2c) to (3c,1.2c)**.\n",
    "\n",
    "\n",
    "<p float=\"left\">\n",
    "    <img align=left src=\"Figures/plot3d_show.png\" alt=\"space-time data plot\" width=\"400\">\n",
    "    <img align=left src=\"Figures/data_2_sec.png\" alt=\"data-points at time: 3.5 sec\" width=\"500\">\n",
    "</p>"
   ]
  },
  {
   "cell_type": "markdown",
   "metadata": {},
   "source": [
    "## Comparison with DeepVIV\n",
    "DeepVIV (Vortex Induced Vibrations) was the paper which led us to this approach. Their setup was on a much simpler and symmetric problem of flow over an oscillating cylinder while ours uses a more complex asmmetric oscillating airfoil. It would not be suitable to continue with their learning parameters and to compensate for the same, we have changed a few points of focus thereby keeping the general idea and architecture same.\n",
    "\n",
    "|Property|DeepVIV|DeepFoil|\n",
    "|-------|-------|--------|\n",
    "|**Time-Snap of data**|![](random_images/deepviv_datasnap.png)|![](Figures/data_2_sec.png)|\n",
    "|**Boundary condition**|Symmetric|Asymmetric|\n",
    "|**Total data points**|~ 4 million|~ 3.8 million **(Less data)**|\n",
    "|**Number of time frames**|280|200|\n",
    "|**Inlet Reynold's number**|1000 (diameter based)|1000 (chord based)|\n",
    "|**Number of oscillations completed**|2 in 14sec|3 in 2sec **(More turbulent)**|\n",
    "|**Simulation Time**|14 sec|2 sec **(Much faster oscillations)**|\n",
    "|**Model Architechture**|Deep fully connected sequential neural network|Deep fully connected sequential neural network|\n",
    "|**Hidden layers**|10 layers|12 layers|\n",
    "|**Width of model**|Uniform: 32/output|Uniform: 32/output|\n",
    "|**Final Error**|around 2%|around 6%|"
   ]
  },
  {
   "cell_type": "markdown",
   "metadata": {},
   "source": [
    "## Load and compile model"
   ]
  },
  {
   "cell_type": "code",
   "execution_count": 5,
   "metadata": {},
   "outputs": [],
   "source": [
    "def custom_loss_wrapper(Re):\n",
    "#     input_tensor = concatenate([t, x, y], 1)\n",
    "    def gradient_calc(Re):\n",
    "        \n",
    "        uvp = model.output\n",
    "        u = uvp[:,0:1]\n",
    "        v = uvp[:,1:2]\n",
    "        p = uvp[:,2:3]\n",
    "        eta = uvp[:,3:4]\n",
    "#         print(u)\n",
    "        \n",
    "        u_t,u_x,u_y = K.gradients(u,model.input)\n",
    "        v_t,v_x,v_y = K.gradients(v,model.input)\n",
    "        p_t,p_x,p_y = K.gradients(p,model.input)\n",
    "        eta_t,eta_x,eta_y = K.gradients(eta,model.input)\n",
    "        \n",
    "        u_xx = K.gradients(u_x,model.input[1])[0]\n",
    "        u_yy = K.gradients(u_y,model.input[2])[0]\n",
    "        v_xx = K.gradients(v_x,model.input[1])[0]\n",
    "        v_yy = K.gradients(v_y,model.input[2])[0]\n",
    "        eta_tt = K.gradients(eta_t,model.input[0])[0]\n",
    "        \n",
    "#         print((u_xx)+(u_yy))\n",
    "        \n",
    "        eq1 = u_t + (u*u_x + v*u_y) + p_x - (1.0/Re)*(u_xx + u_yy)\n",
    "        eq2 = v_t + (u*v_x + v*v_y) + p_y - (1.0/Re)*(v_xx + v_yy) + eta_tt\n",
    "        eq3 = u_x + v_y\n",
    "        \n",
    "        loss = K.mean(tf.square(eq1)) + K.mean(tf.square(eq2)) + K.mean(tf.square(eq3))\n",
    "        \n",
    "#         print((u_xx))\n",
    "        return loss\n",
    "\n",
    "    def custom_loss(y_true, y_pred):\n",
    "        navier_loss = gradient_calc(Re=Re)\n",
    "#         navier_loss = net_VIV(input_tensor,y_pred,Re=1000)\n",
    "        return tf.reduce_mean(tf.square(y_true - y_pred)) + navier_loss\n",
    "    return custom_loss\n"
   ]
  },
  {
   "cell_type": "markdown",
   "metadata": {},
   "source": [
    "## Loss function = Mean Squared Error (MSE) + Navier_loss\n",
    "\n",
    "### Navier loss\n",
    "<img src=\"random_images/navier-loss.png\" align=\"left\" width=\"400\"/>"
   ]
  },
  {
   "cell_type": "code",
   "execution_count": 6,
   "metadata": {},
   "outputs": [],
   "source": [
    "model = load_model(_MODEL,compile=False)\n",
    "model.compile(loss=custom_loss_wrapper(Re=1000), optimizer='adam', metrics=['mse'])\n",
    "# model.summary()"
   ]
  },
  {
   "cell_type": "markdown",
   "metadata": {},
   "source": [
    "## Model Architechture\n",
    "\n",
    "<p>Branched model consisting of 2 branches. One for flow prediction (u,v,p) and other for displacement of body (eta). Flow prediction is relatively more complex problem and hence requires wider network.</p>\n",
    "\n",
    "**1. uvp_predictor**\n",
    "<ul>\n",
    "    <li>Inputs: x,y,t</li>\n",
    "    <li>Outputs: u,v,p</li>\n",
    "    <li>Layer count: 15</li>\n",
    "    <li>Layer width: 32*3</li>\n",
    "    <li>Layer type: Dense, BatchNormalization</li>\n",
    "</ul>\n",
    "\n",
    "**2. eta_predictor**\n",
    "<ul>\n",
    "    <li>Inputs: t</li>\n",
    "    <li>Outputs: eta</li>\n",
    "    <li>Layer count: 15</li>\n",
    "    <li>Layer width: 32</li>\n",
    "    <li>Layer type: Dense, BatchNormalization</li>\n",
    "</ul>\n",
    "\n",
    "### Loss function\n",
    "<p>Custom Loss: RMSE loss (0.004) + Navier loss (0.0002)<br />\n",
    "<strong>Navier Loss</strong>: error in the navier function at any given point. In final model, it gives rise to only 0.2% error.</p>\n",
    "\n",
    "<img src=\"Figures/architecture.png\"/>"
   ]
  },
  {
   "cell_type": "markdown",
   "metadata": {},
   "source": [
    "## Results\n",
    "\n",
    "**Flow at time : 2.3 sec**\n",
    "\n",
    "<img src=\"Figures/flow_23sec.png\" style=\"margin: 0px 2px\" align=\"left\" width=\"700px\">\n",
    "\n",
    "**RMSE errors**:\n",
    "<p>u : 3.23%<br />v : 2.38%<br />p : 1.71%</p>\n",
    "\n",
    "**Summary:** The model is able to capture flow trend. Most of the error is caused due to mismatch in eta prediction which can be seen in error in v, which has highest dependence on eta. p had the highest error in deepVIV too and so in our case although the methods of obtaining p are different. The reason for this anomaly is to be discussed. The error in direct pressure prediction (our approach) is relatively less.\n",
    "\n",
    "**How to correct:** Improving eta prediction must be able to address this problem to some extent. Even after that, A bigger model may capture the intricasies to more detail.\n",
    "\n",
    "**Is it enough:** Yes and No. If our aim is to substitute the current methods, we are far off. But this project had the focus of proving the capabilities of neural network to be able to learn more than that in deepVIV specially when the conditions are asymmetrical."
   ]
  },
  {
   "cell_type": "markdown",
   "metadata": {},
   "source": [
    "## Eta study and plot with time\n",
    "\n",
    "<img src=\"Figures/eta_3plot.png\" style=\"margin: 0px 2px\" align=\"left\" width=\"400\">\n",
    "\n",
    "**Summary:** The model is able to capture eta trend but is failing slightly to match due to such high change with respect to time. Most of the error in flow prediction is caused due to wrong eta provided to navier-loss.\n",
    "\n",
    "**How to correct:** more time frames required. Currently working on the same. Would require even larger model to encompass this doubling of information."
   ]
  },
  {
   "cell_type": "markdown",
   "metadata": {},
   "source": [
    "## Add Lift-Drag calculation Here\n",
    "Both training data and prediction"
   ]
  },
  {
   "cell_type": "markdown",
   "metadata": {},
   "source": [
    "## Video\n",
    "\n",
    "Shows training, prediction and error evolution with time \n",
    "\n",
    "<video src=\"Figures/flow.mp4\" controls>"
   ]
  },
  {
   "cell_type": "markdown",
   "metadata": {},
   "source": [
    "## Ask sir\n",
    "1. Haven't applied p calculation from u and v\n",
    "2. Haven't computed lift and drag from deepVIV formulae"
   ]
  },
  {
   "cell_type": "markdown",
   "metadata": {},
   "source": [
    "## Graphical UI for demonstration"
   ]
  },
  {
   "cell_type": "code",
   "execution_count": 7,
   "metadata": {},
   "outputs": [],
   "source": [
    "from ipywidgets import *\n",
    "def predict_and_plot(time_val):\n",
    "    u_snap,v_snap,p_snap,eta_snap=time_snap(time_val,scaler,data,model,plot=True,print_error=True)\n",
    "    print(time_val)"
   ]
  },
  {
   "cell_type": "code",
   "execution_count": 11,
   "metadata": {
    "scrolled": false
   },
   "outputs": [
    {
     "data": {
      "application/vnd.jupyter.widget-view+json": {
       "model_id": "d73e1db17c6f4b1cba8ab841f69659d7",
       "version_major": 2,
       "version_minor": 0
      },
      "text/plain": [
       "interactive(children=(FloatSlider(value=2.3, description='Time', layout=Layout(height='50px', width='50%'), ma…"
      ]
     },
     "metadata": {},
     "output_type": "display_data"
    }
   ],
   "source": [
    "time_slider = widgets.FloatSlider(value=2.3,min=1,max=3.0,step=0.01,description='Time',layout=Layout(width='50%', height='50px'))\n",
    "time_slider.style.handle_color = '#0b6b66'\n",
    "v=interact_manual(predict_and_plot, time_val= time_slider,description=\"Predict for time snap\")"
   ]
  },
  {
   "cell_type": "code",
   "execution_count": null,
   "metadata": {},
   "outputs": [],
   "source": []
  }
 ],
 "metadata": {
  "kernelspec": {
   "display_name": "Python 3",
   "language": "python",
   "name": "python3"
  },
  "language_info": {
   "codemirror_mode": {
    "name": "ipython",
    "version": 3
   },
   "file_extension": ".py",
   "mimetype": "text/x-python",
   "name": "python",
   "nbconvert_exporter": "python",
   "pygments_lexer": "ipython3",
   "version": "3.7.7"
  }
 },
 "nbformat": 4,
 "nbformat_minor": 4
}
