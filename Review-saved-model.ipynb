{
 "cells": [
  {
   "cell_type": "code",
   "execution_count": 2,
   "metadata": {},
   "outputs": [
    {
     "name": "stderr",
     "output_type": "stream",
     "text": [
      "/home/ritvik/anaconda3/envs/cfd_ml/lib/python3.7/site-packages/tensorflow/python/framework/dtypes.py:516: FutureWarning: Passing (type, 1) or '1type' as a synonym of type is deprecated; in a future version of numpy, it will be understood as (type, (1,)) / '(1,)type'.\n",
      "  _np_qint8 = np.dtype([(\"qint8\", np.int8, 1)])\n",
      "/home/ritvik/anaconda3/envs/cfd_ml/lib/python3.7/site-packages/tensorflow/python/framework/dtypes.py:517: FutureWarning: Passing (type, 1) or '1type' as a synonym of type is deprecated; in a future version of numpy, it will be understood as (type, (1,)) / '(1,)type'.\n",
      "  _np_quint8 = np.dtype([(\"quint8\", np.uint8, 1)])\n",
      "/home/ritvik/anaconda3/envs/cfd_ml/lib/python3.7/site-packages/tensorflow/python/framework/dtypes.py:518: FutureWarning: Passing (type, 1) or '1type' as a synonym of type is deprecated; in a future version of numpy, it will be understood as (type, (1,)) / '(1,)type'.\n",
      "  _np_qint16 = np.dtype([(\"qint16\", np.int16, 1)])\n",
      "/home/ritvik/anaconda3/envs/cfd_ml/lib/python3.7/site-packages/tensorflow/python/framework/dtypes.py:519: FutureWarning: Passing (type, 1) or '1type' as a synonym of type is deprecated; in a future version of numpy, it will be understood as (type, (1,)) / '(1,)type'.\n",
      "  _np_quint16 = np.dtype([(\"quint16\", np.uint16, 1)])\n",
      "/home/ritvik/anaconda3/envs/cfd_ml/lib/python3.7/site-packages/tensorflow/python/framework/dtypes.py:520: FutureWarning: Passing (type, 1) or '1type' as a synonym of type is deprecated; in a future version of numpy, it will be understood as (type, (1,)) / '(1,)type'.\n",
      "  _np_qint32 = np.dtype([(\"qint32\", np.int32, 1)])\n",
      "/home/ritvik/anaconda3/envs/cfd_ml/lib/python3.7/site-packages/tensorflow/python/framework/dtypes.py:525: FutureWarning: Passing (type, 1) or '1type' as a synonym of type is deprecated; in a future version of numpy, it will be understood as (type, (1,)) / '(1,)type'.\n",
      "  np_resource = np.dtype([(\"resource\", np.ubyte, 1)])\n",
      "/home/ritvik/anaconda3/envs/cfd_ml/lib/python3.7/site-packages/tensorboard/compat/tensorflow_stub/dtypes.py:541: FutureWarning: Passing (type, 1) or '1type' as a synonym of type is deprecated; in a future version of numpy, it will be understood as (type, (1,)) / '(1,)type'.\n",
      "  _np_qint8 = np.dtype([(\"qint8\", np.int8, 1)])\n",
      "/home/ritvik/anaconda3/envs/cfd_ml/lib/python3.7/site-packages/tensorboard/compat/tensorflow_stub/dtypes.py:542: FutureWarning: Passing (type, 1) or '1type' as a synonym of type is deprecated; in a future version of numpy, it will be understood as (type, (1,)) / '(1,)type'.\n",
      "  _np_quint8 = np.dtype([(\"quint8\", np.uint8, 1)])\n",
      "/home/ritvik/anaconda3/envs/cfd_ml/lib/python3.7/site-packages/tensorboard/compat/tensorflow_stub/dtypes.py:543: FutureWarning: Passing (type, 1) or '1type' as a synonym of type is deprecated; in a future version of numpy, it will be understood as (type, (1,)) / '(1,)type'.\n",
      "  _np_qint16 = np.dtype([(\"qint16\", np.int16, 1)])\n",
      "/home/ritvik/anaconda3/envs/cfd_ml/lib/python3.7/site-packages/tensorboard/compat/tensorflow_stub/dtypes.py:544: FutureWarning: Passing (type, 1) or '1type' as a synonym of type is deprecated; in a future version of numpy, it will be understood as (type, (1,)) / '(1,)type'.\n",
      "  _np_quint16 = np.dtype([(\"quint16\", np.uint16, 1)])\n",
      "/home/ritvik/anaconda3/envs/cfd_ml/lib/python3.7/site-packages/tensorboard/compat/tensorflow_stub/dtypes.py:545: FutureWarning: Passing (type, 1) or '1type' as a synonym of type is deprecated; in a future version of numpy, it will be understood as (type, (1,)) / '(1,)type'.\n",
      "  _np_qint32 = np.dtype([(\"qint32\", np.int32, 1)])\n",
      "/home/ritvik/anaconda3/envs/cfd_ml/lib/python3.7/site-packages/tensorboard/compat/tensorflow_stub/dtypes.py:550: FutureWarning: Passing (type, 1) or '1type' as a synonym of type is deprecated; in a future version of numpy, it will be understood as (type, (1,)) / '(1,)type'.\n",
      "  np_resource = np.dtype([(\"resource\", np.ubyte, 1)])\n"
     ]
    }
   ],
   "source": [
    "import tensorflow as tf\n",
    "import os\n",
    "import numpy as np\n",
    "%matplotlib inline\n",
    "import matplotlib.pyplot as plt\n",
    "import scipy.io\n",
    "from scipy.interpolate import griddata\n",
    "import time\n",
    "# from google.colab import files\n",
    "# files.upload()\n",
    "from plotting import newfig, savefig\n",
    "import matplotlib.gridspec as gridspec\n",
    "from mpl_toolkits.axes_grid1 import make_axes_locatable\n",
    "\n",
    "from model_ckpt import DeepVIV,plot_solution\n",
    "import pandas as pd"
   ]
  },
  {
   "cell_type": "code",
   "execution_count": 3,
   "metadata": {},
   "outputs": [],
   "source": [
    "# saver = tf.train.import_meta_graph('trained_models/model.ckpt.meta')"
   ]
  },
  {
   "cell_type": "code",
   "execution_count": 4,
   "metadata": {},
   "outputs": [],
   "source": [
    "## Network shape\n",
    "layers_uvp = [3] + 10*[3*32] + [3]\n",
    "layers_eta  = [1] + 10*[1*32] + [1]\n",
    "\n",
    "def create_tensors(data):\n",
    "    \n",
    "    t_star = data['t'] # T x 1\n",
    "    eta_star = data['eta'] # T x 1\n",
    "    \n",
    "    T = t_star.shape[0]\n",
    "        \n",
    "    X_star = data['x']\n",
    "    Y_star = data['y']        \n",
    "    U_star = data['u']\n",
    "    V_star = data['v']\n",
    "    P_star = data['p']\n",
    "\n",
    "    t = t_star.to_numpy()\n",
    "    eta = eta_star.to_numpy()\n",
    "    \n",
    "    # T = t_star.shape[0]\n",
    "        \n",
    "    x = X_star.to_numpy()\n",
    "    y = Y_star.to_numpy()        \n",
    "    u = U_star.to_numpy()\n",
    "    v = V_star.to_numpy()\n",
    "    p = P_star.to_numpy()\n",
    "    \n",
    "    t = t.reshape((t.shape[0],1))\n",
    "    x = x.reshape((x.shape[0],1))\n",
    "    y = y.reshape((y.shape[0],1))\n",
    "    u = u.reshape((u.shape[0],1))\n",
    "    v = v.reshape((v.shape[0],1))\n",
    "    p = p.reshape((p.shape[0],1))\n",
    "    eta = eta.reshape((eta.shape[0],1))\n",
    "    \n",
    "    return t,x,y,u,v,p,eta"
   ]
  },
  {
   "cell_type": "code",
   "execution_count": 5,
   "metadata": {},
   "outputs": [
    {
     "name": "stdout",
     "output_type": "stream",
     "text": [
      "[INFO] Time taken = 5.147411584854126 seconds.\n"
     ]
    },
    {
     "data": {
      "text/html": [
       "<div>\n",
       "<style scoped>\n",
       "    .dataframe tbody tr th:only-of-type {\n",
       "        vertical-align: middle;\n",
       "    }\n",
       "\n",
       "    .dataframe tbody tr th {\n",
       "        vertical-align: top;\n",
       "    }\n",
       "\n",
       "    .dataframe thead th {\n",
       "        text-align: right;\n",
       "    }\n",
       "</style>\n",
       "<table border=\"1\" class=\"dataframe\">\n",
       "  <thead>\n",
       "    <tr style=\"text-align: right;\">\n",
       "      <th></th>\n",
       "      <th>t</th>\n",
       "      <th>x</th>\n",
       "      <th>y</th>\n",
       "      <th>u</th>\n",
       "      <th>v</th>\n",
       "      <th>p</th>\n",
       "      <th>eta</th>\n",
       "      <th>velocity_y</th>\n",
       "      <th>acceleration_y</th>\n",
       "    </tr>\n",
       "  </thead>\n",
       "  <tbody>\n",
       "    <tr>\n",
       "      <th>0</th>\n",
       "      <td>1.00</td>\n",
       "      <td>0.568927</td>\n",
       "      <td>-0.046606</td>\n",
       "      <td>0.087128</td>\n",
       "      <td>-0.001323</td>\n",
       "      <td>4.622246</td>\n",
       "      <td>-0.027765</td>\n",
       "      <td>-0.443435</td>\n",
       "      <td>-7.863445</td>\n",
       "    </tr>\n",
       "    <tr>\n",
       "      <th>1</th>\n",
       "      <td>1.00</td>\n",
       "      <td>1.290390</td>\n",
       "      <td>-0.023081</td>\n",
       "      <td>1.366555</td>\n",
       "      <td>0.085248</td>\n",
       "      <td>0.153395</td>\n",
       "      <td>-0.027765</td>\n",
       "      <td>-0.443435</td>\n",
       "      <td>-7.863445</td>\n",
       "    </tr>\n",
       "    <tr>\n",
       "      <th>2</th>\n",
       "      <td>1.00</td>\n",
       "      <td>1.290373</td>\n",
       "      <td>0.063638</td>\n",
       "      <td>1.058568</td>\n",
       "      <td>0.287478</td>\n",
       "      <td>-0.125707</td>\n",
       "      <td>-0.027765</td>\n",
       "      <td>-0.443435</td>\n",
       "      <td>-7.863445</td>\n",
       "    </tr>\n",
       "    <tr>\n",
       "      <th>3</th>\n",
       "      <td>1.00</td>\n",
       "      <td>1.290382</td>\n",
       "      <td>0.034726</td>\n",
       "      <td>1.136679</td>\n",
       "      <td>0.242483</td>\n",
       "      <td>-0.021684</td>\n",
       "      <td>-0.027765</td>\n",
       "      <td>-0.443435</td>\n",
       "      <td>-7.863445</td>\n",
       "    </tr>\n",
       "    <tr>\n",
       "      <th>4</th>\n",
       "      <td>1.00</td>\n",
       "      <td>1.319255</td>\n",
       "      <td>0.034768</td>\n",
       "      <td>1.071537</td>\n",
       "      <td>0.162342</td>\n",
       "      <td>-0.025877</td>\n",
       "      <td>-0.027765</td>\n",
       "      <td>-0.443435</td>\n",
       "      <td>-7.863445</td>\n",
       "    </tr>\n",
       "    <tr>\n",
       "      <th>...</th>\n",
       "      <td>...</td>\n",
       "      <td>...</td>\n",
       "      <td>...</td>\n",
       "      <td>...</td>\n",
       "      <td>...</td>\n",
       "      <td>...</td>\n",
       "      <td>...</td>\n",
       "      <td>...</td>\n",
       "      <td>...</td>\n",
       "    </tr>\n",
       "    <tr>\n",
       "      <th>3886677</th>\n",
       "      <td>3.01</td>\n",
       "      <td>1.261377</td>\n",
       "      <td>0.303673</td>\n",
       "      <td>0.734870</td>\n",
       "      <td>0.684885</td>\n",
       "      <td>0.380411</td>\n",
       "      <td>-0.099309</td>\n",
       "      <td>-0.657429</td>\n",
       "      <td>4.613411</td>\n",
       "    </tr>\n",
       "    <tr>\n",
       "      <th>3886678</th>\n",
       "      <td>3.01</td>\n",
       "      <td>1.261397</td>\n",
       "      <td>0.272308</td>\n",
       "      <td>0.727909</td>\n",
       "      <td>0.732213</td>\n",
       "      <td>0.381629</td>\n",
       "      <td>-0.099309</td>\n",
       "      <td>-0.657429</td>\n",
       "      <td>4.613411</td>\n",
       "    </tr>\n",
       "    <tr>\n",
       "      <th>3886679</th>\n",
       "      <td>3.01</td>\n",
       "      <td>1.232511</td>\n",
       "      <td>0.270750</td>\n",
       "      <td>0.674244</td>\n",
       "      <td>0.725419</td>\n",
       "      <td>0.383377</td>\n",
       "      <td>-0.099309</td>\n",
       "      <td>-0.657429</td>\n",
       "      <td>4.613411</td>\n",
       "    </tr>\n",
       "    <tr>\n",
       "      <th>3886680</th>\n",
       "      <td>3.01</td>\n",
       "      <td>1.290281</td>\n",
       "      <td>0.274201</td>\n",
       "      <td>0.774205</td>\n",
       "      <td>0.726929</td>\n",
       "      <td>0.377228</td>\n",
       "      <td>-0.099309</td>\n",
       "      <td>-0.657429</td>\n",
       "      <td>4.613411</td>\n",
       "    </tr>\n",
       "    <tr>\n",
       "      <th>3886681</th>\n",
       "      <td>3.01</td>\n",
       "      <td>-0.003083</td>\n",
       "      <td>0.010412</td>\n",
       "      <td>-1.057328</td>\n",
       "      <td>2.555958</td>\n",
       "      <td>NaN</td>\n",
       "      <td>-0.099309</td>\n",
       "      <td>-0.657429</td>\n",
       "      <td>4.613411</td>\n",
       "    </tr>\n",
       "  </tbody>\n",
       "</table>\n",
       "<p>3886682 rows × 9 columns</p>\n",
       "</div>"
      ],
      "text/plain": [
       "            t         x         y         u         v         p       eta  \\\n",
       "0        1.00  0.568927 -0.046606  0.087128 -0.001323  4.622246 -0.027765   \n",
       "1        1.00  1.290390 -0.023081  1.366555  0.085248  0.153395 -0.027765   \n",
       "2        1.00  1.290373  0.063638  1.058568  0.287478 -0.125707 -0.027765   \n",
       "3        1.00  1.290382  0.034726  1.136679  0.242483 -0.021684 -0.027765   \n",
       "4        1.00  1.319255  0.034768  1.071537  0.162342 -0.025877 -0.027765   \n",
       "...       ...       ...       ...       ...       ...       ...       ...   \n",
       "3886677  3.01  1.261377  0.303673  0.734870  0.684885  0.380411 -0.099309   \n",
       "3886678  3.01  1.261397  0.272308  0.727909  0.732213  0.381629 -0.099309   \n",
       "3886679  3.01  1.232511  0.270750  0.674244  0.725419  0.383377 -0.099309   \n",
       "3886680  3.01  1.290281  0.274201  0.774205  0.726929  0.377228 -0.099309   \n",
       "3886681  3.01 -0.003083  0.010412 -1.057328  2.555958       NaN -0.099309   \n",
       "\n",
       "         velocity_y  acceleration_y  \n",
       "0         -0.443435       -7.863445  \n",
       "1         -0.443435       -7.863445  \n",
       "2         -0.443435       -7.863445  \n",
       "3         -0.443435       -7.863445  \n",
       "4         -0.443435       -7.863445  \n",
       "...             ...             ...  \n",
       "3886677   -0.657429        4.613411  \n",
       "3886678   -0.657429        4.613411  \n",
       "3886679   -0.657429        4.613411  \n",
       "3886680   -0.657429        4.613411  \n",
       "3886681   -0.657429        4.613411  \n",
       "\n",
       "[3886682 rows x 9 columns]"
      ]
     },
     "execution_count": 5,
     "metadata": {},
     "output_type": "execute_result"
    }
   ],
   "source": [
    "time_1 = time.time()\n",
    "data = pd.read_csv(\"final_translated_data.csv\")\n",
    "print(\"[INFO] Time taken = \"+str(time.time()-time_1)+\" seconds.\")\n",
    "data"
   ]
  },
  {
   "cell_type": "code",
   "execution_count": 6,
   "metadata": {},
   "outputs": [
    {
     "data": {
      "text/plain": [
       "((3886682, 1),\n",
       " (3886682, 1),\n",
       " (3886682, 1),\n",
       " (3886682, 1),\n",
       " (3886682, 1),\n",
       " (3886682, 1),\n",
       " (3886682, 1))"
      ]
     },
     "execution_count": 6,
     "metadata": {},
     "output_type": "execute_result"
    }
   ],
   "source": [
    "t,x,y,u,v,p,eta = create_tensors(data)\n",
    "t.shape,x.shape,y.shape,u.shape,v.shape,p.shape,eta.shape"
   ]
  },
  {
   "cell_type": "code",
   "execution_count": 7,
   "metadata": {},
   "outputs": [
    {
     "data": {
      "text/plain": [
       "((3700000, 1),\n",
       " (3700000, 1),\n",
       " (3700000, 1),\n",
       " (3700000, 1),\n",
       " (3700000, 1),\n",
       " (3700000, 1),\n",
       " (3700000, 1))"
      ]
     },
     "execution_count": 7,
     "metadata": {},
     "output_type": "execute_result"
    }
   ],
   "source": [
    "N_train = 3700000\n",
    "idx = np.random.choice(t.shape[0], N_train, replace=False)\n",
    "t_train = t[idx]\n",
    "x_train = x[idx]\n",
    "y_train = y[idx]\n",
    "u_train = u[idx]\n",
    "v_train = v[idx]\n",
    "p_train = p[idx]\n",
    "eta_train = eta[idx]\n",
    "t_train.shape,x_train.shape,y_train.shape,u_train.shape,v_train.shape,p_train.shape,eta_train.shape"
   ]
  },
  {
   "cell_type": "code",
   "execution_count": 8,
   "metadata": {},
   "outputs": [
    {
     "name": "stdout",
     "output_type": "stream",
     "text": [
      "WARNING:tensorflow:From /home/ritvik/Work/BTP/DeepFoil/model_ckpt.py:98: The name tf.truncated_normal is deprecated. Please use tf.random.truncated_normal instead.\n",
      "\n",
      "WARNING:tensorflow:From /home/ritvik/Work/BTP/DeepFoil/model_ckpt.py:43: The name tf.Session is deprecated. Please use tf.compat.v1.Session instead.\n",
      "\n",
      "WARNING:tensorflow:From /home/ritvik/Work/BTP/DeepFoil/model_ckpt.py:43: The name tf.ConfigProto is deprecated. Please use tf.compat.v1.ConfigProto instead.\n",
      "\n",
      "WARNING:tensorflow:From /home/ritvik/Work/BTP/DeepFoil/model_ckpt.py:46: The name tf.placeholder is deprecated. Please use tf.compat.v1.placeholder instead.\n",
      "\n",
      "WARNING:tensorflow:From /home/ritvik/Work/BTP/DeepFoil/model_ckpt.py:74: The name tf.train.AdamOptimizer is deprecated. Please use tf.compat.v1.train.AdamOptimizer instead.\n",
      "\n",
      "WARNING:tensorflow:From /home/ritvik/Work/BTP/DeepFoil/model_ckpt.py:77: The name tf.global_variables_initializer is deprecated. Please use tf.compat.v1.global_variables_initializer instead.\n",
      "\n"
     ]
    }
   ],
   "source": [
    "model = DeepVIV(t_train, x_train, y_train, u_train, v_train, eta_train, layers_uvp, layers_eta, Re=1000)"
   ]
  },
  {
   "cell_type": "code",
   "execution_count": 8,
   "metadata": {},
   "outputs": [
    {
     "name": "stdout",
     "output_type": "stream",
     "text": [
      "WARNING:tensorflow:From /home/ritvik/anaconda3/envs/cfd_ml/lib/python3.7/site-packages/tensorflow/python/training/saver.py:1276: checkpoint_exists (from tensorflow.python.training.checkpoint_management) is deprecated and will be removed in a future version.\n",
      "Instructions for updating:\n",
      "Use standard file APIs to check for files with this prefix.\n",
      "INFO:tensorflow:Restoring parameters from trained_models/model_foil\n"
     ]
    }
   ],
   "source": [
    "sess = tf.Session()\n",
    "saver = tf.train.import_meta_graph('trained_models/model_foil.meta')\n",
    "# saver = tf.train.Saver()\n",
    "saver.restore(sess, tf.train.latest_checkpoint('trained_models'))"
   ]
  },
  {
   "cell_type": "code",
   "execution_count": 10,
   "metadata": {},
   "outputs": [
    {
     "data": {
      "text/plain": [
       "((1000, 1), (1000, 1), (1000, 1), (1000, 1), (1000, 1), (1000, 1), (1000, 1))"
      ]
     },
     "execution_count": 10,
     "metadata": {},
     "output_type": "execute_result"
    }
   ],
   "source": [
    "N_test = 1000\n",
    "idx_2 = np.random.choice(t.shape[0], N_test, replace=False)\n",
    "t_test = t[idx_2]\n",
    "x_test = x[idx_2]\n",
    "y_test = y[idx_2]\n",
    "u_test = u[idx_2]\n",
    "v_test = v[idx_2]\n",
    "p_test = p[idx_2]\n",
    "eta_test = eta[idx_2]\n",
    "t_test.shape,x_test.shape,y_test.shape,u_test.shape,v_test.shape,p_test.shape,eta_test.shape"
   ]
  },
  {
   "cell_type": "code",
   "execution_count": 11,
   "metadata": {},
   "outputs": [
    {
     "data": {
      "image/png": "[encoded data removed]",
      "text/plain": [
       "<Figure size 432x288 with 2 Axes>"
      ]
     },
     "metadata": {
      "needs_background": "light"
     },
     "output_type": "display_data"
    }
   ],
   "source": [
    "F_D, F_L = model.predict_drag_lift(t_test)\n",
    "    \n",
    "fig, ax1 = plt.subplots()\n",
    "ax1.plot(t_test, F_D, 'b')\n",
    "ax1.set_xlabel('$t$')\n",
    "ax1.set_ylabel('$F_D$', color='b')\n",
    "ax1.tick_params('y', colors='b')\n",
    "    \n",
    "ax2 = ax1.twinx()\n",
    "ax2.plot(t_test, F_L, 'r')\n",
    "ax2.set_ylabel('$F_L$', color='r')\n",
    "ax2.tick_params('y', colors='r')\n",
    "    \n",
    "fig.tight_layout()\n",
    "# path = '/content/drive/My Drive/Colab Notebooks/DeepVIV/'\n",
    "savefig('Figures/VIV_data_on_velocities_lift_drag', crop = False)"
   ]
  },
  {
   "cell_type": "code",
   "execution_count": 12,
   "metadata": {},
   "outputs": [
    {
     "name": "stdout",
     "output_type": "stream",
     "text": [
      "Error u: 1.003602e+00\n",
      "Error v: 1.014729e+00\n",
      "Error p: nan\n",
      "Error eta: 1.126109e+00\n"
     ]
    },
    {
     "data": {
      "image/png": "[encoded data removed]",
      "text/plain": [
       "<Figure size 388.543x384.212 with 12 Axes>"
      ]
     },
     "metadata": {
      "needs_background": "light"
     },
     "output_type": "display_data"
    }
   ],
   "source": [
    "    # Prediction\n",
    "    u_pred, v_pred, p_pred, eta_pred = model.predict(t_test, x_test, y_test)\n",
    "    \n",
    "    # Error\n",
    "    error_u = np.linalg.norm(u_test-u_pred,2)/np.linalg.norm(u_test,2)\n",
    "    error_v = np.linalg.norm(v_test-v_pred,2)/np.linalg.norm(v_test,2)\n",
    "    error_p = np.linalg.norm(p_test-p_pred,2)/np.linalg.norm(p_test,2)\n",
    "    error_eta = np.linalg.norm(eta_test-eta_pred,2)/np.linalg.norm(eta_test,2)\n",
    "\n",
    "    print('Error u: %e' % (error_u))\n",
    "    print('Error v: %e' % (error_v))\n",
    "    print('Error p: %e' % (error_p))\n",
    "    print('Error eta: %e' % (error_eta))\n",
    "        \n",
    "    ######################################################################\n",
    "    ############################# Plotting ###############################\n",
    "    ######################################################################\n",
    "    \n",
    "    circle11 = plt.Circle((0, 0), 0.5, facecolor='w', edgecolor='k')\n",
    "    circle12 = plt.Circle((0, 0), 0.5, facecolor='w', edgecolor='k')\n",
    "    circle21 = plt.Circle((0, 0), 0.5, facecolor='w', edgecolor='k')\n",
    "    circle22 = plt.Circle((0, 0), 0.5, facecolor='w', edgecolor='k')\n",
    "    circle31 = plt.Circle((0, 0), 0.5, facecolor='w', edgecolor='k')\n",
    "    circle32 = plt.Circle((0, 0), 0.5, facecolor='w', edgecolor='k')\n",
    "    circle41 = plt.Circle((0, 0), 0.5, facecolor='w', edgecolor='k')\n",
    "    circle42 = plt.Circle((0, 0), 0.5, facecolor='w', edgecolor='k')\n",
    "    \n",
    "    fig, ax = newfig(1.0, 1.6)\n",
    "    ax.axis('off')\n",
    "\n",
    "    gs = gridspec.GridSpec(4, 2)\n",
    "    gs.update(top=0.95, bottom=0.07, left=0.1, right=0.9, wspace=0.5, hspace=0.7)\n",
    "        \n",
    "    ########      Exact u(t,x,y)     ###########     \n",
    "    ax = plt.subplot(gs[0:1, 0])\n",
    "    h = plot_solution(x_test,y_test,u_test,ax)\n",
    "    divider = make_axes_locatable(ax)\n",
    "    cax = divider.append_axes(\"right\", size=\"5%\", pad=0.05)\n",
    "#     ax.add_artist(circle21)\n",
    "    ax.axis('equal')\n",
    "    \n",
    "    fig.colorbar(h, cax=cax)\n",
    "    ax.set_xlabel('$x$')\n",
    "    ax.set_ylabel('$y$')\n",
    "    ax.set_title('Exact $u(t,x,y)$', fontsize = 10)\n",
    "    \n",
    "    ########     Learned u(t,x,y)     ###########\n",
    "    ax = plt.subplot(gs[0:1, 1])\n",
    "    h = plot_solution(x_test,y_test,u_pred,ax)\n",
    "    divider = make_axes_locatable(ax)\n",
    "    cax = divider.append_axes(\"right\", size=\"5%\", pad=0.05)\n",
    "#     ax.add_artist(circle22)\n",
    "    ax.axis('equal')\n",
    "    \n",
    "    fig.colorbar(h, cax=cax)\n",
    "    ax.set_xlabel('$x$')\n",
    "    ax.set_ylabel('$y$')\n",
    "    ax.set_title('Learned $u(t,x,y)$', fontsize = 10)\n",
    "    \n",
    "    ########      Exact v(t,x,y)     ###########     \n",
    "    ax = plt.subplot(gs[1:2, 0])\n",
    "    h = plot_solution(x_test,y_test,v_test,ax)\n",
    "    divider = make_axes_locatable(ax)\n",
    "    cax = divider.append_axes(\"right\", size=\"5%\", pad=0.05)\n",
    "    ax.add_artist(circle31)\n",
    "    ax.axis('equal')\n",
    "    \n",
    "    fig.colorbar(h, cax=cax)\n",
    "    ax.set_xlabel('$x$')\n",
    "    ax.set_ylabel('$y$')\n",
    "    ax.set_title('Exact $v(t,x,y)$', fontsize = 10)\n",
    "    \n",
    "    ########     Learned v(t,x,y)     ###########\n",
    "    ax = plt.subplot(gs[1:2, 1])\n",
    "    h = plot_solution(x_test,y_test,v_pred,ax)\n",
    "    divider = make_axes_locatable(ax)\n",
    "    cax = divider.append_axes(\"right\", size=\"5%\", pad=0.05)\n",
    "    ax.add_artist(circle32)\n",
    "    ax.axis('equal')\n",
    "    \n",
    "    fig.colorbar(h, cax=cax)\n",
    "    ax.set_xlabel('$x$')\n",
    "    ax.set_ylabel('$y$')\n",
    "    ax.set_title('Learned $v(t,x,y)$', fontsize = 10)\n",
    "    \n",
    "    ########      Exact p(t,x,y)     ###########     \n",
    "    ax = plt.subplot(gs[2:3, 0])\n",
    "    h = plot_solution(x_test,y_test,p_test,ax)\n",
    "    divider = make_axes_locatable(ax)\n",
    "    cax = divider.append_axes(\"right\", size=\"5%\", pad=0.05)\n",
    "    ax.add_artist(circle41)\n",
    "    ax.axis('equal')    \n",
    "    \n",
    "    fig.colorbar(h, cax=cax)\n",
    "    ax.set_xlabel('$x$')\n",
    "    ax.set_ylabel('$y$')\n",
    "    ax.set_title('Exact $p(t,x,y)$', fontsize = 10)\n",
    "    \n",
    "    ########     Learned p(t,x,y)     ###########\n",
    "    ax = plt.subplot(gs[2:3, 1])\n",
    "    h = plot_solution(x_test,y_test,p_pred,ax)\n",
    "    divider = make_axes_locatable(ax)\n",
    "    cax = divider.append_axes(\"right\", size=\"5%\", pad=0.05)\n",
    "    ax.add_artist(circle42)\n",
    "    ax.axis('equal')\n",
    "        \n",
    "    fig.colorbar(h, cax=cax)\n",
    "    ax.set_xlabel('$x$')\n",
    "    ax.set_ylabel('$y$')\n",
    "    ax.set_title('Learned $p(t,x,y)$', fontsize = 10)\n",
    "    \n",
    "    savefig('Figures/VIV_data_on_velocities', crop = False)\n",
    "    "
   ]
  },
  {
   "cell_type": "code",
   "execution_count": null,
   "metadata": {},
   "outputs": [],
   "source": []
  }
 ],
 "metadata": {
  "kernelspec": {
   "display_name": "Python 3",
   "language": "python",
   "name": "python3"
  },
  "language_info": {
   "codemirror_mode": {
    "name": "ipython",
    "version": 3
   },
   "file_extension": ".py",
   "mimetype": "text/x-python",
   "name": "python",
   "nbconvert_exporter": "python",
   "pygments_lexer": "ipython3",
   "version": "3.7.7"
  }
 },
 "nbformat": 4,
 "nbformat_minor": 4
}
